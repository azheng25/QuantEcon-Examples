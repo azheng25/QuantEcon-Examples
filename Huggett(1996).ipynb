{
 "cells": [
  {
   "cell_type": "markdown",
   "metadata": {
    "deletable": true,
    "editable": true,
    "hideCode": false,
    "hidePrompt": false
   },
   "source": [
    "##  Huggett(1996) model\n",
    "#### This version has certain lifetimes."
   ]
  },
  {
   "cell_type": "code",
   "execution_count": 1,
   "metadata": {
    "collapsed": true,
    "deletable": true,
    "editable": true,
    "hideCode": false,
    "hidePrompt": false
   },
   "outputs": [],
   "source": [
    "using Optim\n",
    "using Interpolations\n",
    "using QuantEcon\n",
    "using Roots"
   ]
  },
  {
   "cell_type": "code",
   "execution_count": 2,
   "metadata": {
    "collapsed": false,
    "deletable": true,
    "editable": true,
    "hideCode": false,
    "hidePrompt": false,
    "scrolled": true
   },
   "outputs": [
    {
     "data": {
      "text/plain": [
       "tauchen1 (generic function with 3 methods)"
      ]
     },
     "execution_count": 2,
     "metadata": {},
     "output_type": "execute_result"
    }
   ],
   "source": [
    "# Discretization of the labour productivity shock with Tauchen. \n",
    "function tauchen1(N::Integer, ρ::Real, σ::Real, μ::Real=0.0, n_std::Integer=3)\n",
    "\n",
    "  std_norm_cdf{T <: Real}(x::T) = 0.5 * erfc(-x/sqrt(2))\n",
    "  std_norm_cdf{T <: Real}(x::Array{T}) = 0.5 .* erfc(-x./sqrt(2))\n",
    "\n",
    "    # Get discretized space\n",
    "    a_bar = n_std * sqrt(σ^2 / (1 - ρ^2))\n",
    "    y = linspace(-a_bar, a_bar, N)\n",
    "    d = y[2] - y[1]\n",
    "\n",
    "    # Get transition probabilities\n",
    "    Π = zeros(N, N)\n",
    "    for row = 1:N\n",
    "        # Do end points first\n",
    "        Π[row, 1] = std_norm_cdf((y[1] - ρ*y[row] + d/2) / σ)\n",
    "        Π[row, N] = 1 - std_norm_cdf((y[N] - ρ*y[row] - d/2) / σ)\n",
    "\n",
    "        # fill in the middle columns\n",
    "        for col = 2:N-1\n",
    "            Π[row, col] = (std_norm_cdf((y[col] - ρ*y[row] + d/2) / σ) -\n",
    "                           std_norm_cdf((y[col] - ρ*y[row] - d/2) / σ))\n",
    "        end\n",
    "    end\n",
    "\n",
    "    # NOTE: I need to shift this vector after finding probabilities\n",
    "    #       because when finding the probabilities I use a function\n",
    "    #       std_norm_cdf that assumes its input argument is distributed\n",
    "    #       N(0, 1). After adding the mean E[y] is no longer 0, so\n",
    "    #       I would be passing elements with the wrong distribution.\n",
    "    #\n",
    "    #       It is ok to do after the fact because adding this constant to each\n",
    "    #       term effectively shifts the entire distribution. Because the\n",
    "    #       normal distribution is symmetric and we just care about relative\n",
    "    #       distances between points, the probabilities will be the same.\n",
    "    #\n",
    "    #       I could have shifted it before, but then I would need to evaluate\n",
    "    #       the cdf with a function that allows the distribution of input\n",
    "    #       arguments to be [μ/(1 - ρ), 1] instead of [0, 1]\n",
    "\n",
    "    yy = y .+ μ / (1 - ρ) # center process around its mean (wbar / (1 - rho)) in new variable\n",
    "\n",
    "    # renormalize. In some test cases the rows sum to something that is 2e-15\n",
    "    # away from 1.0, which caused problems in the MarkovChain constructor\n",
    "    Π = Π./sum(Π, 2)\n",
    "\n",
    "    return Π, yy\n",
    "end"
   ]
  },
  {
   "cell_type": "markdown",
   "metadata": {
    "deletable": true,
    "editable": true,
    "hideCode": false,
    "hidePrompt": false
   },
   "source": [
    "Define the Model type and initialize parameter values"
   ]
  },
  {
   "cell_type": "code",
   "execution_count": 3,
   "metadata": {
    "collapsed": false,
    "deletable": true,
    "editable": true,
    "hideCode": false,
    "hidePrompt": false
   },
   "outputs": [
    {
     "data": {
      "text/plain": [
       "Huggett"
      ]
     },
     "execution_count": 3,
     "metadata": {},
     "output_type": "execute_result"
    }
   ],
   "source": [
    "type Huggett\n",
    "    beta::Float64 # discount factor\n",
    "    sigma::Float64 # CRRA coefficient\n",
    "    A::Float64 # aggregate productivity\n",
    "    alpha::Float64 # capital share of output\n",
    "    delta::Float64 # depreciation rate\n",
    "    R::Int64 # Retirement age\n",
    "    N::Int64 # Death age\n",
    "    n::Float64 # growth rate\n",
    "    gamma::Float64 # persistence of earnings process\n",
    "    sig_e::Float64 # std dev of earnings process\n",
    "    theta::Float64 # social security tax on labour earnings\n",
    "    agrid::Vector{Float64} # asset grid\n",
    "    Na::Int64\n",
    "    zgrid::Vector{Float64} # earnings shock grid\n",
    "    Pi::Matrix{Float64}\n",
    "    Nz::Int64\n",
    "    KY::Float64 # capital output ratio\n",
    "    tau::Float64 # income tax rate\n",
    "    mu::Vector{Float64}\n",
    "    earnings::Vector{Float64} # mean earnings by age \n",
    "    e_mat::Matrix{Float64} # e(z,t) matrix (product of earnings and zgrid)\n",
    "end\n",
    "\n",
    "function Huggett(;beta=0.99, sigma=1.5, A=0.895944,alpha=0.36,delta=0.06,R=46,N=79,n=0.012,gamma=0.96,sig_e=0.212,theta=0.10,KY=3.0)\n",
    "    \n",
    "    Pi,lnzgrid=tauchen1(18,gamma,sig_e,0.0,4) # 18 is the grid size and 4 is the # of std dev out\n",
    "    zgrid=exp(lnzgrid)\n",
    "    agrid=linspace(0.0,20,40)\n",
    "    Nz=length(zgrid)\n",
    "    Na=length(agrid)\n",
    "    tau=0.195/(1-delta*(KY))\n",
    "   \n",
    "    # age distribution\n",
    "    x=(1/(1+n))*ones(N)\n",
    "    y=(-1)*linspace(1,79,79)\n",
    "    mu=x.^-y \n",
    "    \n",
    "    #earnings\n",
    "    earnings = [0.0911, 0.1573, 0.2268, 0.2752, 0.3218, 0.3669, 0.4114, 0.4559, 0.4859, 0.5164, 0.5474, 0.5786, 0.6097, 0.6311, 0.6517, 0.6711, 0.6893, 0.7060, 0.7213, 0.7355, 0.7489, 0.7619, 0.7747, 0.7783, 0.7825, 0.7874, 0.7931, 0.7994, 0.7923, 0.7850, 0.7771, 0.7679, 0.7567, 0.7351, 0.7105, 0.6822, 0.6500,\n",
    "    0.6138, 0.5675, 0.5183, 0.4672, 0.3935, 0.3239, 0.2596, 0.1955, 0.1408, 0.0959, 0.0604, 0.0459, 0.0342, 0.0246, 0.0165, 0.0091, 0., 0., 0., 0., 0., 0., 0., 0., 0., 0., 0., 0., 0., 0., 0., 0., 0., 0., 0., 0., 0., 0., 0., 0., 0., 0.]\n",
    "    \n",
    "    e_mat=kron(transpose(earnings),zgrid)\n",
    "    \n",
    "    Huggett(beta,sigma,A,alpha,delta,R,N,n,gamma,sig_e,theta,agrid,Na,zgrid,Pi,Nz,KY,tau,mu,earnings,e_mat)\n",
    "    \n",
    "    \n",
    "end"
   ]
  },
  {
   "cell_type": "markdown",
   "metadata": {
    "deletable": true,
    "editable": true,
    "hideCode": false,
    "hidePrompt": false
   },
   "source": [
    "Write functions for calculating utility, wage, and interest rate."
   ]
  },
  {
   "cell_type": "code",
   "execution_count": 4,
   "metadata": {
    "collapsed": false,
    "deletable": true,
    "editable": true,
    "hideCode": false,
    "hidePrompt": false
   },
   "outputs": [
    {
     "data": {
      "text/plain": [
       "util (generic function with 1 method)"
      ]
     },
     "execution_count": 4,
     "metadata": {},
     "output_type": "execute_result"
    }
   ],
   "source": [
    "function w_r(alpha::Float64,A::Float64,K::Float64,L::Float64,delta::Float64)\n",
    "    w=(1-alpha)*A*(K^alpha)*(L^(-alpha))\n",
    "    r=alpha*A*(K^(alpha-1))*(L^(1-alpha))-delta\n",
    "    \n",
    "    return w,r\n",
    "end\n",
    "\n",
    "function util(c::Float64,sigma::Float64)\n",
    "    u=(c^(1-sigma))/(1-sigma)\n",
    "    if c<=0.0 #inada\n",
    "        u=-1e8\n",
    "    end\n",
    "    return u\n",
    "end\n"
   ]
  },
  {
   "cell_type": "markdown",
   "metadata": {
    "hideCode": false,
    "hidePrompt": false
   },
   "source": [
    "Function for solving for the optimal asset holding."
   ]
  },
  {
   "cell_type": "markdown",
   "metadata": {
    "deletable": true,
    "editable": true,
    "hideCode": false,
    "hidePrompt": false
   },
   "source": [
    "Solve for the policy function by backward induction."
   ]
  },
  {
   "cell_type": "code",
   "execution_count": 5,
   "metadata": {
    "collapsed": false
   },
   "outputs": [
    {
     "data": {
      "text/plain": [
       "find_a (generic function with 1 method)"
      ]
     },
     "execution_count": 5,
     "metadata": {},
     "output_type": "execute_result"
    }
   ],
   "source": [
    "function find_a(bgrid,V::Array{Float64},i_t::Int64,i_z::Int64,hm::Huggett,a::Float64,e::Float64,r::Float64,w::Float64,b::Float64)\n",
    "    function opt_a(aprime)\n",
    "        c=a*(1+r*(1-hm.tau))+(1-hm.theta-hm.tau)*e*w+bgrid[i_t]-aprime\n",
    "        interpV=zeros(hm.Nz)\n",
    "        \n",
    "        for zp=1:hm.Nz\n",
    "            itp=interpolate((hm.agrid,),vec(V[:,zp,i_t+1]),Gridded(Linear()))\n",
    "            extp=extrapolate(itp,Linear())\n",
    "            interpV[zp]=extp[aprime]\n",
    "        end\n",
    "        \n",
    "        exp_valre=transpose(hm.Pi[i_z,:])*interpV\n",
    "        exp_val=exp_valre[1]\n",
    "        \n",
    "        utility_flow=util(c,hm.sigma)\n",
    "        Vnew=(utility_flow+hm.beta*exp_val)*(-1.0)\n",
    "\n",
    "        return Vnrw\n",
    "    end\n",
    "\n",
    "    results=optimize(opt_a,0.0,100.0)\n",
    "    aprime=Optim.minimizer(results)\n",
    "    V=(-1.0)*Optim.minimum(results)\n",
    "    c=a*(1+r*(1-hm.tau))+(1-hm.theta-hm.tau)*e*w+b-aprime\n",
    "    return aprime,V\n",
    "end"
   ]
  },
  {
   "cell_type": "markdown",
   "metadata": {
    "deletable": true,
    "editable": true,
    "hideCode": false,
    "hidePrompt": false
   },
   "source": [
    "The labour endowment is $e(z,t)=exp(z_t+\\bar{y_t})$ where $\\bar{y_t}$ is the mean log endowment of agents of age $t$"
   ]
  },
  {
   "cell_type": "code",
   "execution_count": 8,
   "metadata": {
    "collapsed": false,
    "deletable": true,
    "editable": true,
    "hideCode": false,
    "hidePrompt": false
   },
   "outputs": [
    {
     "data": {
      "text/plain": [
       "hhdecision (generic function with 1 method)"
      ]
     },
     "execution_count": 8,
     "metadata": {},
     "output_type": "execute_result"
    }
   ],
   "source": [
    "function hhdecision(hm::Huggett,K::Float64)\n",
    "    beta,sigma,A,alpha,delta,R,N,n,gamma,sig_e,theta,agrid,Na,zgrid,Pi,Nz,KY,tau,mu,earnings,e_mat=hm.beta,hm.sigma,hm.A,hm.alpha,hm.delta,hm.R,hm.N,hm.n,hm.gamma,hm.sig_e,hm.theta,hm.agrid,hm.Na,hm.zgrid,hm.Pi,hm.Nz,hm.KY,hm.tau,hm.mu,hm.earnings,hm.e_mat\n",
    "    \n",
    "    # calculate L\n",
    "    Y=(1/3)*K  \n",
    "    L=(Y/(A*(K^alpha)))^(1/(1-alpha))\n",
    "    # measure old\n",
    "    w,r=w_r(alpha,A,K,L,delta)\n",
    "    measure_old=sum(mu[R:end])\n",
    "    V=zeros(Na,Nz,N+1) # value for the agents by assets, earnings shock, and age\n",
    "    aprime=similar(V) # asset choice\n",
    "    cons=similar(V)\n",
    "    bgrid=zeros(N+1)\n",
    "    bgrid[R:N]=theta*w*L/measure_old*ones(N-R+1)\n",
    "    \n",
    "    for i_t=1:N\n",
    "        for (i_z,z) in enumerate(zgrid)\n",
    "            for (i_a,a) in enumerate(agrid)\n",
    "                aprime[i_a,i_z,N+1-i_t],V[i_a,i_z,N+1-i_t],cons[i_a,i_z,N+1-i_t]=find_a(bgrid,V,i_t,i_z,hm,a,e_mat[i_z,i_t],r,w,bgrid[N+1-i_t])\n",
    "            end \n",
    "        end\n",
    "    end\n",
    "    \n",
    "    return V,aprime,cons\n",
    "end\n"
   ]
  },
  {
   "cell_type": "code",
   "execution_count": 10,
   "metadata": {
    "collapsed": false,
    "hideCode": false,
    "hidePrompt": false
   },
   "outputs": [
    {
     "data": {
      "text/plain": [
       "Huggett(0.99,1.5,0.895944,0.36,0.06,46,79,0.012,0.96,0.212,0.1,[0.0,0.512821,1.02564,1.53846,2.05128,2.5641,3.07692,3.58974,4.10256,4.61538  …  15.3846,15.8974,16.4103,16.9231,17.4359,17.9487,18.4615,18.9744,19.4872,20.0],40,[0.0483847,0.0690953,0.0986708,0.140906,0.201219,0.287349,0.410345,0.585989,0.836816,1.19501,1.70652,2.43697,3.48009,4.96971,7.09694,10.1347,14.4728,20.6677],[0.606 0.368387 … 0.0 0.0; 0.0893873 0.542228 … 0.0 0.0; … ; 3.02424e-144 3.49192e-126 … 0.542228 0.0893873; 9.73451e-163 1.68512e-143 … 0.368387 0.606],18,3.0,0.23780487804878048,[0.988142,0.976425,0.964847,0.953406,0.942101,0.93093,0.919891,0.908983,0.898205,0.887554  …  0.433874,0.42873,0.423646,0.418623,0.413659,0.408754,0.403907,0.399117,0.394385,0.389708],[0.0911,0.1573,0.2268,0.2752,0.3218,0.3669,0.4114,0.4559,0.4859,0.5164  …  0.0,0.0,0.0,0.0,0.0,0.0,0.0,0.0,0.0,0.0],[0.00440785 0.00761091 … 0.0 0.0; 0.00629458 0.0108687 … 0.0 0.0; … ; 1.31847 2.27657 … 0.0 0.0; 1.88283 3.25103 … 0.0 0.0])"
      ]
     },
     "execution_count": 10,
     "metadata": {},
     "output_type": "execute_result"
    }
   ],
   "source": [
    "K=1.7\n",
    "hm=Huggett()\n",
    "#V,aprime,cons=hhdecision(hm,K)"
   ]
  },
  {
   "cell_type": "code",
   "execution_count": null,
   "metadata": {
    "collapsed": false,
    "hideCode": false,
    "hidePrompt": false
   },
   "outputs": [],
   "source": []
  }
 ],
 "metadata": {
  "celltoolbar": "Hide code",
  "hide_code_all_hidden": false,
  "kernelspec": {
   "display_name": "Julia 0.5.1",
   "language": "julia",
   "name": "julia-0.5"
  },
  "language_info": {
   "file_extension": ".jl",
   "mimetype": "application/julia",
   "name": "julia",
   "version": "0.5.1"
  }
 },
 "nbformat": 4,
 "nbformat_minor": 2
}
