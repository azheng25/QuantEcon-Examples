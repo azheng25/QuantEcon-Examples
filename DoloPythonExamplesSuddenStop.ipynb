{
 "cells": [
  {
   "cell_type": "markdown",
   "metadata": {},
   "source": [
    "### Sudden Stops"
   ]
  },
  {
   "cell_type": "code",
   "execution_count": 1,
   "metadata": {
    "collapsed": false
   },
   "outputs": [
    {
     "name": "stdout",
     "output_type": "stream",
     "text": [
      "Populating the interactive namespace from numpy and matplotlib\n"
     ]
    }
   ],
   "source": [
    "%pylab inline"
   ]
  },
  {
   "cell_type": "code",
   "execution_count": 2,
   "metadata": {
    "collapsed": true
   },
   "outputs": [],
   "source": [
    "from dolo import *\n",
    "from dolo.algos.dtmscc.time_iteration import time_iteration\n",
    "from dolo.algos.dtmscc.simulations import plot_decision_rule, simulate"
   ]
  },
  {
   "cell_type": "code",
   "execution_count": 3,
   "metadata": {
    "collapsed": false
   },
   "outputs": [
    {
     "data": {
      "text/html": [
       "<style>\n",
       "    .source .hll { background-color: #ffffcc }\n",
       ".source  { background: #f8f8f8; }\n",
       ".source .c { color: #408080; font-style: italic } /* Comment */\n",
       ".source .err { border: 1px solid #FF0000 } /* Error */\n",
       ".source .k { color: #008000; font-weight: bold } /* Keyword */\n",
       ".source .o { color: #666666 } /* Operator */\n",
       ".source .ch { color: #408080; font-style: italic } /* Comment.Hashbang */\n",
       ".source .cm { color: #408080; font-style: italic } /* Comment.Multiline */\n",
       ".source .cp { color: #BC7A00 } /* Comment.Preproc */\n",
       ".source .cpf { color: #408080; font-style: italic } /* Comment.PreprocFile */\n",
       ".source .c1 { color: #408080; font-style: italic } /* Comment.Single */\n",
       ".source .cs { color: #408080; font-style: italic } /* Comment.Special */\n",
       ".source .gd { color: #A00000 } /* Generic.Deleted */\n",
       ".source .ge { font-style: italic } /* Generic.Emph */\n",
       ".source .gr { color: #FF0000 } /* Generic.Error */\n",
       ".source .gh { color: #000080; font-weight: bold } /* Generic.Heading */\n",
       ".source .gi { color: #00A000 } /* Generic.Inserted */\n",
       ".source .go { color: #888888 } /* Generic.Output */\n",
       ".source .gp { color: #000080; font-weight: bold } /* Generic.Prompt */\n",
       ".source .gs { font-weight: bold } /* Generic.Strong */\n",
       ".source .gu { color: #800080; font-weight: bold } /* Generic.Subheading */\n",
       ".source .gt { color: #0044DD } /* Generic.Traceback */\n",
       ".source .kc { color: #008000; font-weight: bold } /* Keyword.Constant */\n",
       ".source .kd { color: #008000; font-weight: bold } /* Keyword.Declaration */\n",
       ".source .kn { color: #008000; font-weight: bold } /* Keyword.Namespace */\n",
       ".source .kp { color: #008000 } /* Keyword.Pseudo */\n",
       ".source .kr { color: #008000; font-weight: bold } /* Keyword.Reserved */\n",
       ".source .kt { color: #B00040 } /* Keyword.Type */\n",
       ".source .m { color: #666666 } /* Literal.Number */\n",
       ".source .s { color: #BA2121 } /* Literal.String */\n",
       ".source .na { color: #7D9029 } /* Name.Attribute */\n",
       ".source .nb { color: #008000 } /* Name.Builtin */\n",
       ".source .nc { color: #0000FF; font-weight: bold } /* Name.Class */\n",
       ".source .no { color: #880000 } /* Name.Constant */\n",
       ".source .nd { color: #AA22FF } /* Name.Decorator */\n",
       ".source .ni { color: #999999; font-weight: bold } /* Name.Entity */\n",
       ".source .ne { color: #D2413A; font-weight: bold } /* Name.Exception */\n",
       ".source .nf { color: #0000FF } /* Name.Function */\n",
       ".source .nl { color: #A0A000 } /* Name.Label */\n",
       ".source .nn { color: #0000FF; font-weight: bold } /* Name.Namespace */\n",
       ".source .nt { color: #008000; font-weight: bold } /* Name.Tag */\n",
       ".source .nv { color: #19177C } /* Name.Variable */\n",
       ".source .ow { color: #AA22FF; font-weight: bold } /* Operator.Word */\n",
       ".source .w { color: #bbbbbb } /* Text.Whitespace */\n",
       ".source .mb { color: #666666 } /* Literal.Number.Bin */\n",
       ".source .mf { color: #666666 } /* Literal.Number.Float */\n",
       ".source .mh { color: #666666 } /* Literal.Number.Hex */\n",
       ".source .mi { color: #666666 } /* Literal.Number.Integer */\n",
       ".source .mo { color: #666666 } /* Literal.Number.Oct */\n",
       ".source .sb { color: #BA2121 } /* Literal.String.Backtick */\n",
       ".source .sc { color: #BA2121 } /* Literal.String.Char */\n",
       ".source .sd { color: #BA2121; font-style: italic } /* Literal.String.Doc */\n",
       ".source .s2 { color: #BA2121 } /* Literal.String.Double */\n",
       ".source .se { color: #BB6622; font-weight: bold } /* Literal.String.Escape */\n",
       ".source .sh { color: #BA2121 } /* Literal.String.Heredoc */\n",
       ".source .si { color: #BB6688; font-weight: bold } /* Literal.String.Interpol */\n",
       ".source .sx { color: #008000 } /* Literal.String.Other */\n",
       ".source .sr { color: #BB6688 } /* Literal.String.Regex */\n",
       ".source .s1 { color: #BA2121 } /* Literal.String.Single */\n",
       ".source .ss { color: #19177C } /* Literal.String.Symbol */\n",
       ".source .bp { color: #008000 } /* Name.Builtin.Pseudo */\n",
       ".source .vc { color: #19177C } /* Name.Variable.Class */\n",
       ".source .vg { color: #19177C } /* Name.Variable.Global */\n",
       ".source .vi { color: #19177C } /* Name.Variable.Instance */\n",
       ".source .il { color: #666666 } /* Literal.Number.Integer.Long */\n",
       "    </style>\n",
       "    <table class=\"sourcetable\"><tr><td class=\"linenos\"><div class=\"linenodiv\"><pre> 1\n",
       " 2\n",
       " 3\n",
       " 4\n",
       " 5\n",
       " 6\n",
       " 7\n",
       " 8\n",
       " 9\n",
       "10\n",
       "11\n",
       "12\n",
       "13\n",
       "14\n",
       "15\n",
       "16\n",
       "17\n",
       "18\n",
       "19\n",
       "20\n",
       "21\n",
       "22\n",
       "23\n",
       "24\n",
       "25\n",
       "26\n",
       "27\n",
       "28\n",
       "29\n",
       "30\n",
       "31\n",
       "32\n",
       "33\n",
       "34\n",
       "35\n",
       "36\n",
       "37\n",
       "38\n",
       "39\n",
       "40\n",
       "41\n",
       "42\n",
       "43\n",
       "44\n",
       "45\n",
       "46\n",
       "47\n",
       "48\n",
       "49\n",
       "50\n",
       "51\n",
       "52\n",
       "53\n",
       "54\n",
       "55\n",
       "56\n",
       "57\n",
       "58\n",
       "59\n",
       "60\n",
       "61\n",
       "62\n",
       "63\n",
       "64\n",
       "65\n",
       "66\n",
       "67\n",
       "68\n",
       "69</pre></div></td><td class=\"code\"><div class=\"source\"><pre><span></span><span class=\"c1\"># This file adapts the model described in</span>\n",
       "<span class=\"c1\"># &quot;From Sudden Stops to Fisherian Deflation, Quantitative Theory and Policy&quot;</span>\n",
       "<span class=\"c1\"># by Anton Korinek and Enrique G. Mendoza</span>\n",
       "\n",
       "<span class=\"l l-Scalar l-Scalar-Plain\">name</span><span class=\"p p-Indicator\">:</span> <span class=\"l l-Scalar l-Scalar-Plain\">Sudden Stop (General)</span>\n",
       "\n",
       "<span class=\"l l-Scalar l-Scalar-Plain\">model_type</span><span class=\"p p-Indicator\">:</span> <span class=\"l l-Scalar l-Scalar-Plain\">dtmscc</span>\n",
       "\n",
       "<span class=\"l l-Scalar l-Scalar-Plain\">symbols</span><span class=\"p p-Indicator\">:</span>\n",
       "\n",
       "    <span class=\"l l-Scalar l-Scalar-Plain\">markov_states</span><span class=\"p p-Indicator\">:</span> <span class=\"p p-Indicator\">[</span><span class=\"nv\">y</span><span class=\"p p-Indicator\">]</span>\n",
       "    <span class=\"l l-Scalar l-Scalar-Plain\">states</span><span class=\"p p-Indicator\">:</span> <span class=\"p p-Indicator\">[</span><span class=\"nv\">l</span><span class=\"p p-Indicator\">]</span>\n",
       "    <span class=\"l l-Scalar l-Scalar-Plain\">controls</span><span class=\"p p-Indicator\">:</span> <span class=\"p p-Indicator\">[</span><span class=\"nv\">b</span><span class=\"p p-Indicator\">,</span> <span class=\"nv\">lam</span><span class=\"p p-Indicator\">]</span>\n",
       "    <span class=\"l l-Scalar l-Scalar-Plain\">values</span><span class=\"p p-Indicator\">:</span> <span class=\"p p-Indicator\">[</span><span class=\"nv\">V</span><span class=\"p p-Indicator\">,</span> <span class=\"nv\">Vc</span><span class=\"p p-Indicator\">]</span>\n",
       "    <span class=\"l l-Scalar l-Scalar-Plain\">parameters</span><span class=\"p p-Indicator\">:</span> <span class=\"p p-Indicator\">[</span><span class=\"nv\">beta</span><span class=\"p p-Indicator\">,</span> <span class=\"nv\">R</span><span class=\"p p-Indicator\">,</span> <span class=\"nv\">sigma</span><span class=\"p p-Indicator\">,</span> <span class=\"nv\">a</span><span class=\"p p-Indicator\">,</span> <span class=\"nv\">mu</span><span class=\"p p-Indicator\">,</span> <span class=\"nv\">kappa</span><span class=\"p p-Indicator\">,</span> <span class=\"nv\">delta_y</span><span class=\"p p-Indicator\">,</span> <span class=\"nv\">pi</span><span class=\"p p-Indicator\">,</span> <span class=\"nv\">lam_inf</span><span class=\"p p-Indicator\">]</span>\n",
       "\n",
       "\n",
       "<span class=\"l l-Scalar l-Scalar-Plain\">definitions</span><span class=\"p p-Indicator\">:</span>\n",
       "    <span class=\"l l-Scalar l-Scalar-Plain\">c</span><span class=\"p p-Indicator\">:</span> <span class=\"l l-Scalar l-Scalar-Plain\">1 + y + l*R - b</span>\n",
       "\n",
       "<span class=\"l l-Scalar l-Scalar-Plain\">equations</span><span class=\"p p-Indicator\">:</span>\n",
       "\n",
       "    <span class=\"l l-Scalar l-Scalar-Plain\">transition</span><span class=\"p p-Indicator\">:</span>\n",
       "        <span class=\"p p-Indicator\">-</span> <span class=\"l l-Scalar l-Scalar-Plain\">l = b(-1)</span>\n",
       "\n",
       "    <span class=\"l l-Scalar l-Scalar-Plain\">arbitrage</span><span class=\"p p-Indicator\">:</span>\n",
       "        <span class=\"p p-Indicator\">-</span> <span class=\"l l-Scalar l-Scalar-Plain\">lam = b/c</span>\n",
       "        <span class=\"p p-Indicator\">-</span> <span class=\"l l-Scalar l-Scalar-Plain\">1 - beta*(c(1)/c)^(-sigma)*R    |  lam_inf &lt;= lam &lt;= inf</span>\n",
       "\n",
       "    <span class=\"l l-Scalar l-Scalar-Plain\">value</span><span class=\"p p-Indicator\">:</span>\n",
       "        <span class=\"p p-Indicator\">-</span> <span class=\"l l-Scalar l-Scalar-Plain\">V = c^(1.0-sigma)/(1.0-sigma) + beta*V(1)</span>\n",
       "        <span class=\"p p-Indicator\">-</span> <span class=\"l l-Scalar l-Scalar-Plain\">Vc = c^(1.0-sigma)/(1.0-sigma)</span>\n",
       "\n",
       "<span class=\"l l-Scalar l-Scalar-Plain\">calibration</span><span class=\"p p-Indicator\">:</span>\n",
       "\n",
       "    <span class=\"l l-Scalar l-Scalar-Plain\">beta</span><span class=\"p p-Indicator\">:</span> <span class=\"l l-Scalar l-Scalar-Plain\">0.95</span>\n",
       "    <span class=\"l l-Scalar l-Scalar-Plain\">R</span><span class=\"p p-Indicator\">:</span> <span class=\"l l-Scalar l-Scalar-Plain\">1.03</span>\n",
       "    <span class=\"l l-Scalar l-Scalar-Plain\">sigma</span><span class=\"p p-Indicator\">:</span> <span class=\"l l-Scalar l-Scalar-Plain\">2.0</span>\n",
       "    <span class=\"l l-Scalar l-Scalar-Plain\">a</span><span class=\"p p-Indicator\">:</span> <span class=\"l l-Scalar l-Scalar-Plain\">1/3</span>\n",
       "    <span class=\"l l-Scalar l-Scalar-Plain\">mu</span><span class=\"p p-Indicator\">:</span> <span class=\"l l-Scalar l-Scalar-Plain\">0.8</span>\n",
       "    <span class=\"l l-Scalar l-Scalar-Plain\">kappa</span><span class=\"p p-Indicator\">:</span> <span class=\"l l-Scalar l-Scalar-Plain\">1.3</span>\n",
       "    <span class=\"l l-Scalar l-Scalar-Plain\">delta_y</span><span class=\"p p-Indicator\">:</span> <span class=\"l l-Scalar l-Scalar-Plain\">0.03</span>\n",
       "    <span class=\"l l-Scalar l-Scalar-Plain\">pi</span><span class=\"p p-Indicator\">:</span> <span class=\"l l-Scalar l-Scalar-Plain\">0.05</span>\n",
       "    <span class=\"l l-Scalar l-Scalar-Plain\">lam_inf</span><span class=\"p p-Indicator\">:</span> <span class=\"l l-Scalar l-Scalar-Plain\">-0.2</span>\n",
       "    <span class=\"l l-Scalar l-Scalar-Plain\">y</span><span class=\"p p-Indicator\">:</span> <span class=\"l l-Scalar l-Scalar-Plain\">1.0</span>\n",
       "    <span class=\"l l-Scalar l-Scalar-Plain\">c</span><span class=\"p p-Indicator\">:</span> <span class=\"l l-Scalar l-Scalar-Plain\">1.0 + y</span>\n",
       "    <span class=\"l l-Scalar l-Scalar-Plain\">b</span><span class=\"p p-Indicator\">:</span> <span class=\"l l-Scalar l-Scalar-Plain\">0.0</span>\n",
       "    <span class=\"l l-Scalar l-Scalar-Plain\">l</span><span class=\"p p-Indicator\">:</span> <span class=\"l l-Scalar l-Scalar-Plain\">0.0</span>\n",
       "    <span class=\"l l-Scalar l-Scalar-Plain\">lam</span><span class=\"p p-Indicator\">:</span> <span class=\"l l-Scalar l-Scalar-Plain\">0.0</span>\n",
       "\n",
       "    <span class=\"l l-Scalar l-Scalar-Plain\">V</span><span class=\"p p-Indicator\">:</span> <span class=\"l l-Scalar l-Scalar-Plain\">c^(1.0-sigma)/(1.0-sigma)/(1.0-beta)</span>\n",
       "    <span class=\"l l-Scalar l-Scalar-Plain\">Vc</span><span class=\"p p-Indicator\">:</span> <span class=\"l l-Scalar l-Scalar-Plain\">c^(1.0-sigma)/(1.0-sigma)</span>\n",
       "\n",
       "<span class=\"l l-Scalar l-Scalar-Plain\">options</span><span class=\"p p-Indicator\">:</span>\n",
       "\n",
       "\n",
       "    <span class=\"l l-Scalar l-Scalar-Plain\">discrete_transition</span><span class=\"p p-Indicator\">:</span> <span class=\"kt\">!MarkovChain</span>\n",
       "\n",
       "        <span class=\"l l-Scalar l-Scalar-Plain\">P</span><span class=\"p p-Indicator\">:</span> <span class=\"p p-Indicator\">[[</span> <span class=\"nv\">1.0-delta_y</span> <span class=\"p p-Indicator\">],</span>  <span class=\"c1\"># bad state</span>\n",
       "           <span class=\"p p-Indicator\">[</span> <span class=\"nv\">1.0</span> <span class=\"p p-Indicator\">]]</span>          <span class=\"c1\"># good state</span>\n",
       "\n",
       "        <span class=\"l l-Scalar l-Scalar-Plain\">Q</span><span class=\"p p-Indicator\">:</span> <span class=\"p p-Indicator\">[[</span> <span class=\"nv\">0.5</span><span class=\"p p-Indicator\">,</span> <span class=\"nv\">1-0.5</span> <span class=\"p p-Indicator\">],</span>   <span class=\"c1\"># probabilities   [p(L|L), p(H|L)]</span>\n",
       "           <span class=\"p p-Indicator\">[</span> <span class=\"nv\">0.5</span><span class=\"p p-Indicator\">,</span> <span class=\"nv\">0.5</span> <span class=\"p p-Indicator\">]]</span>     <span class=\"c1\"># probabilities   [p(L|H), p(H|H)]</span>\n",
       "\n",
       "    <span class=\"l l-Scalar l-Scalar-Plain\">grid</span><span class=\"p p-Indicator\">:</span> <span class=\"kt\">!Cartesian</span>\n",
       "\n",
       "        <span class=\"l l-Scalar l-Scalar-Plain\">a</span><span class=\"p p-Indicator\">:</span> <span class=\"p p-Indicator\">[</span><span class=\"nv\">-1.0</span><span class=\"p p-Indicator\">]</span>\n",
       "        <span class=\"l l-Scalar l-Scalar-Plain\">b</span><span class=\"p p-Indicator\">:</span> <span class=\"p p-Indicator\">[</span> <span class=\"nv\">1.0</span><span class=\"p p-Indicator\">]</span>\n",
       "        <span class=\"l l-Scalar l-Scalar-Plain\">orders</span><span class=\"p p-Indicator\">:</span> <span class=\"p p-Indicator\">[</span><span class=\"nv\">10</span><span class=\"p p-Indicator\">]</span>\n",
       "</pre></div>\n",
       "</td></tr></table>\n",
       "    "
      ],
      "text/plain": [
       "<IPython.core.display.HTML object>"
      ]
     },
     "execution_count": 3,
     "metadata": {},
     "output_type": "execute_result"
    }
   ],
   "source": [
    "filename = 'https://raw.githubusercontent.com/EconForge/dolo/master/examples/models/sudden_stop.yaml'\n",
    "# the model file is coded in a separate file called sudden_stop.yaml\n",
    "# note how the borrowing constraint is implemented as complementarity condition\n",
    "pcat(filename)"
   ]
  },
  {
   "cell_type": "code",
   "execution_count": 4,
   "metadata": {
    "collapsed": false
   },
   "outputs": [
    {
     "data": {
      "text/html": [
       "\n",
       "     <table>\n",
       "         <td><b>Model</b></td>\n",
       "     <tr>\n",
       "        <td>name</td>\n",
       "        <td>Sudden Stop (General)</td>\n",
       "      </tr>\n",
       "    <tr>\n",
       "        <td>type</td>\n",
       "        <td>dtmscc</td>\n",
       "      </tr>\n",
       "      <tr>\n",
       "        <td>filename</td>\n",
       "        <td>https://raw.githubusercontent.com/EconForge/dolo/master/examples/models/sudden_stop.yaml</td>\n",
       "      </tr>\n",
       "    </table><table><tr><td><b>Type</b></td><td><b>Equation</b></td><td><b>Residual</b></td></tr>\n",
       "<tr><td>transition</td><td>$l_{t} = b_{t-1}$</td><td>0.000</td></tr><tr><td>arbitrage</td><td>$\\lambda_{t} = \\frac{b_{t}}{c_{t}}$</td><td>0.000</td></tr>\n",
       "<tr><td></td><td>$1 - \\beta \\; \\left(\\frac{c_{t+1}}{c_{t}}\\right)^{- \\sigma} \\; R$</td><td><span style=\"color: red;\">0.0215</span></td></tr><tr><td>value</td><td>$V_{t} = \\frac{c_{t}^{1.0 - \\sigma}}{1.0 - \\sigma} + \\beta \\; V_{t+1}$</td><td>0.000</td></tr>\n",
       "<tr><td></td><td>$Vc_{t} = \\frac{c_{t}^{1.0 - \\sigma}}{1.0 - \\sigma}$</td><td>0.000</td></tr></table>"
      ],
      "text/plain": [
       "\n",
       "Model:\n",
       "------\n",
       "name: \"Sudden Stop (General)\"\n",
       "type: \"dtmscc\"\n",
       "file: \"https://raw.githubusercontent.com/EconForge/dolo/master/examples/models/sudden_stop.yaml\n",
       "\n",
       "Equations:\n",
       "----------\n",
       "\n",
       "transition\n",
       " 1  : 0.0000 : l = b(-1)\n",
       "\n",
       "arbitrage\n",
       " 1  : 0.0000 : lam = b/c\n",
       " 2  : \u001b[31m0.0215\u001b[0m : 1 - beta*(c(1)/c)**(-sigma)*R    |  lam_inf <= lam <= inf\n",
       "\n",
       "value\n",
       " 1  : 0.0000 : V = c**(1.0-sigma)/(1.0-sigma) + beta*V(1)\n",
       " 2  : 0.0000 : Vc = c**(1.0-sigma)/(1.0-sigma)\n"
      ]
     },
     "execution_count": 4,
     "metadata": {},
     "output_type": "execute_result"
    }
   ],
   "source": [
    "model = yaml_import(filename)\n",
    "model"
   ]
  },
  {
   "cell_type": "code",
   "execution_count": 5,
   "metadata": {
    "collapsed": false
   },
   "outputs": [
    {
     "name": "stdout",
     "output_type": "stream",
     "text": [
      "Solving WITH complementarities.\n",
      "------------------------------------------------\n",
      "| N   |  Error     | Gain     | Time     | nit |\n",
      "------------------------------------------------\n",
      "|   1 |  5.014e-01 |      nan |    0.073 |   6 |\n",
      "|   2 |  1.600e-01 |    0.319 |    0.020 |   5 |\n",
      "|   3 |  7.470e-02 |    0.467 |    0.021 |   5 |\n",
      "|   4 |  4.066e-02 |    0.544 |    0.023 |   5 |\n",
      "|   5 |  2.368e-02 |    0.582 |    0.020 |   5 |\n",
      "|   6 |  1.822e-02 |    0.770 |    0.020 |   5 |\n",
      "|   7 |  1.724e-02 |    0.946 |    0.017 |   4 |\n",
      "|   8 |  1.428e-02 |    0.828 |    0.016 |   4 |\n",
      "|   9 |  1.372e-02 |    0.961 |    0.012 |   3 |\n",
      "|  10 |  1.163e-02 |    0.848 |    0.012 |   3 |\n",
      "|  11 |  1.139e-02 |    0.979 |    0.013 |   3 |\n",
      "|  12 |  1.066e-02 |    0.936 |    0.013 |   3 |\n",
      "|  13 |  9.816e-03 |    0.921 |    0.013 |   3 |\n",
      "|  14 |  9.045e-03 |    0.921 |    0.013 |   3 |\n",
      "|  15 |  7.798e-03 |    0.862 |    0.009 |   2 |\n",
      "|  16 |  4.160e-03 |    0.533 |    0.009 |   2 |\n",
      "|  17 |  1.537e-03 |    0.370 |    0.009 |   2 |\n",
      "|  18 |  4.642e-04 |    0.302 |    0.009 |   2 |\n",
      "|  19 |  1.401e-04 |    0.302 |    0.010 |   2 |\n",
      "|  20 |  5.055e-05 |    0.361 |    0.006 |   1 |\n",
      "|  21 |  2.266e-05 |    0.448 |    0.006 |   1 |\n",
      "|  22 |  1.179e-05 |    0.520 |    0.005 |   1 |\n",
      "|  23 |  6.350e-06 |    0.539 |    0.006 |   1 |\n",
      "|  24 |  3.188e-06 |    0.502 |    0.006 |   1 |\n",
      "|  25 |  1.421e-06 |    0.446 |    0.005 |   1 |\n",
      "|  26 |  5.700e-07 |    0.401 |    0.006 |   1 |\n",
      "------------------------------------------------\n",
      "Elapsed: 0.36821770668029785 seconds.\n",
      "------------------------------------------------\n"
     ]
    }
   ],
   "source": [
    "mdr = time_iteration(model, verbose=True)"
   ]
  },
  {
   "cell_type": "code",
   "execution_count": 6,
   "metadata": {
    "collapsed": true
   },
   "outputs": [],
   "source": [
    "i_0 = 1 # we start from the good state\n",
    "sim = simulate(model, mdr, i_0, s0=0.5, n_exp=1, horizon=100) # markov_indices=markov_indices)"
   ]
  },
  {
   "cell_type": "code",
   "execution_count": 7,
   "metadata": {
    "collapsed": false
   },
   "outputs": [
    {
     "data": {
      "text/plain": [
       "[<matplotlib.lines.Line2D at 0x23e48eb15c0>]"
      ]
     },
     "execution_count": 7,
     "metadata": {},
     "output_type": "execute_result"
    },
    {
     "data": {
      "image/png": "[encoded data removed]",
      "text/plain": [
       "<matplotlib.figure.Figure at 0x23e489e4748>"
      ]
     },
     "metadata": {},
     "output_type": "display_data"
    }
   ],
   "source": [
    "subplot(211)\n",
    "plot(sim['y'])\n",
    "subplot(212)\n",
    "plot(sim['b'])"
   ]
  },
  {
   "cell_type": "code",
   "execution_count": 9,
   "metadata": {
    "collapsed": false
   },
   "outputs": [
    {
     "name": "stdout",
     "output_type": "stream",
     "text": [
      "Solving WITH complementarities.\n",
      "------------------------------------------------\n",
      "| N   |  Error     | Gain     | Time     | nit |\n",
      "------------------------------------------------\n",
      "|   1 |  5.133e-01 |      nan |    0.037 |  10 |\n",
      "|   2 |  1.703e-01 |    0.332 |    0.022 |   8 |\n",
      "|   3 |  8.433e-02 |    0.495 |    0.026 |   6 |\n",
      "|   4 |  5.005e-02 |    0.594 |    0.026 |   6 |\n",
      "|   5 |  3.290e-02 |    0.657 |    0.027 |   6 |\n",
      "|   6 |  2.315e-02 |    0.704 |    0.023 |   6 |\n",
      "|   7 |  1.705e-02 |    0.737 |    0.024 |   6 |\n",
      "|   8 |  1.298e-02 |    0.761 |    0.022 |   5 |\n"
     ]
    },
    {
     "name": "stderr",
     "output_type": "stream",
     "text": [
      "\u001b[33mUserWarning\u001b[0m:C:\\Users\\Angela\\Anaconda3\\lib\\site-packages\\dolo\\numeric\\optimize\\newton.py:150\n",
      "    Did not converge\n"
     ]
    },
    {
     "name": "stdout",
     "output_type": "stream",
     "text": [
      "|   9 |  1.013e-02 |    0.780 |    0.024 |   5 |\n",
      "|  10 |  8.050e-03 |    0.795 |    0.020 |   5 |\n",
      "|  11 |  6.493e-03 |    0.807 |    0.022 |   5 |\n",
      "|  12 |  5.297e-03 |    0.816 |    0.023 |   5 |\n",
      "|  13 |  4.359e-03 |    0.823 |    0.017 |   4 |\n",
      "|  14 |  3.770e-03 |    0.865 |    0.017 |   4 |\n",
      "|  15 |  3.917e-03 |    1.039 |    0.018 |   4 |\n",
      "|  16 |  4.054e-03 |    1.035 |    0.017 |   4 |\n",
      "|  17 |  4.072e-03 |    1.004 |    0.016 |   4 |\n",
      "|  18 |  3.947e-03 |    0.969 |    0.016 |   4 |\n",
      "|  19 |  3.675e-03 |    0.931 |    0.016 |   4 |\n",
      "|  20 |  3.269e-03 |    0.890 |    0.013 |   3 |\n",
      "|  21 |  2.861e-03 |    0.875 |    0.013 |   3 |\n",
      "|  22 |  3.028e-03 |    1.058 |    0.011 |   3 |\n",
      "|  23 |  3.084e-03 |    1.018 |    0.010 |   3 |\n",
      "|  24 |  3.088e-03 |    1.001 |    0.010 |   3 |\n",
      "|  25 |  2.973e-03 |    0.963 |    0.010 |   3 |\n",
      "|  26 |  2.690e-03 |    0.905 |    0.009 |   3 |\n",
      "|  27 |  2.469e-03 |    0.918 |    0.012 |   3 |\n",
      "|  28 |  2.592e-03 |    1.050 |    0.013 |   3 |\n",
      "|  29 |  2.585e-03 |    0.997 |    0.013 |   3 |\n",
      "|  30 |  2.505e-03 |    0.969 |    0.013 |   3 |\n",
      "|  31 |  2.252e-03 |    0.899 |    0.017 |   3 |\n",
      "|  32 |  2.174e-03 |    0.965 |    0.014 |   3 |\n",
      "|  33 |  2.234e-03 |    1.028 |    0.013 |   3 |\n",
      "|  34 |  2.196e-03 |    0.983 |    0.013 |   3 |\n",
      "|  35 |  2.030e-03 |    0.924 |    0.013 |   3 |\n",
      "|  36 |  1.833e-03 |    0.903 |    0.013 |   3 |\n",
      "|  37 |  1.893e-03 |    1.032 |    0.013 |   3 |\n",
      "|  38 |  1.847e-03 |    0.976 |    0.013 |   3 |\n",
      "|  39 |  1.699e-03 |    0.920 |    0.013 |   3 |\n",
      "|  40 |  1.614e-03 |    0.950 |    0.014 |   3 |\n",
      "|  41 |  1.575e-03 |    0.976 |    0.012 |   3 |\n",
      "|  42 |  1.466e-03 |    0.931 |    0.013 |   3 |\n",
      "|  43 |  1.255e-03 |    0.856 |    0.013 |   3 |\n",
      "|  44 |  9.810e-04 |    0.781 |    0.010 |   2 |\n",
      "|  45 |  6.903e-04 |    0.704 |    0.009 |   2 |\n",
      "|  46 |  4.233e-04 |    0.613 |    0.010 |   2 |\n",
      "|  47 |  2.052e-04 |    0.485 |    0.010 |   2 |\n",
      "|  48 |  1.959e-04 |    0.955 |    0.009 |   2 |\n",
      "|  49 |  1.641e-04 |    0.838 |    0.009 |   2 |\n",
      "|  50 |  1.233e-04 |    0.751 |    0.010 |   2 |\n",
      "|  51 |  1.236e-04 |    1.002 |    0.009 |   2 |\n",
      "|  52 |  1.088e-04 |    0.880 |    0.009 |   2 |\n",
      "|  53 |  8.405e-05 |    0.773 |    0.010 |   2 |\n",
      "|  54 |  5.452e-05 |    0.649 |    0.009 |   2 |\n",
      "|  55 |  3.427e-05 |    0.629 |    0.008 |   2 |\n",
      "|  56 |  3.296e-05 |    0.962 |    0.009 |   2 |\n",
      "|  57 |  2.793e-05 |    0.847 |    0.010 |   2 |\n",
      "|  58 |  2.201e-05 |    0.788 |    0.009 |   2 |\n",
      "|  59 |  2.172e-05 |    0.987 |    0.009 |   2 |\n",
      "|  60 |  1.889e-05 |    0.869 |    0.012 |   2 |\n",
      "|  61 |  1.407e-05 |    0.745 |    0.010 |   2 |\n",
      "|  62 |  8.404e-06 |    0.597 |    0.006 |   1 |\n",
      "|  63 |  7.505e-06 |    0.893 |    0.005 |   1 |\n",
      "|  64 |  6.914e-06 |    0.921 |    0.004 |   1 |\n",
      "|  65 |  5.351e-06 |    0.774 |    0.004 |   1 |\n",
      "|  66 |  5.067e-06 |    0.947 |    0.004 |   1 |\n",
      "|  67 |  4.602e-06 |    0.908 |    0.004 |   1 |\n",
      "|  68 |  3.667e-06 |    0.797 |    0.006 |   1 |\n",
      "|  69 |  2.667e-06 |    0.727 |    0.006 |   1 |\n",
      "|  70 |  2.749e-06 |    1.031 |    0.006 |   1 |\n",
      "|  71 |  2.663e-06 |    0.969 |    0.006 |   1 |\n",
      "|  72 |  2.344e-06 |    0.880 |    0.006 |   1 |\n",
      "|  73 |  1.979e-06 |    0.844 |    0.006 |   1 |\n",
      "|  74 |  1.942e-06 |    0.981 |    0.006 |   1 |\n",
      "|  75 |  1.718e-06 |    0.885 |    0.008 |   1 |\n",
      "|  76 |  1.325e-06 |    0.772 |    0.007 |   1 |\n",
      "|  77 |  9.115e-07 |    0.688 |    0.010 |   1 |\n",
      "------------------------------------------------\n",
      "Elapsed: 0.971233606338501 seconds.\n",
      "------------------------------------------------\n"
     ]
    }
   ],
   "source": [
    "# do a sensitivity test with the CRRA parameter\n",
    "# we solve the model with sigma=16\n",
    "model.set_calibration(sigma=16.0)\n",
    "mdr_high_gamma = time_iteration(model, verbose=True)"
   ]
  },
  {
   "cell_type": "code",
   "execution_count": 13,
   "metadata": {
    "collapsed": false
   },
   "outputs": [
    {
     "data": {
      "text/plain": [
       "<matplotlib.legend.Legend at 0x23e48e060b8>"
      ]
     },
     "execution_count": 13,
     "metadata": {},
     "output_type": "execute_result"
    },
    {
     "data": {
      "image/png": "[encoded data removed]",
      "text/plain": [
       "<matplotlib.figure.Figure at 0x23e48daf630>"
      ]
     },
     "metadata": {},
     "output_type": "display_data"
    }
   ],
   "source": [
    "# now we compare the decision rules with low and high risk aversion\n",
    "plot_decision_rule(model, mdr, 'l', 'b', i0=0, n_steps=10, label='$b_t$ (bad)' )\n",
    "plot_decision_rule(model, mdr, 'l', 'b', i0=1, n_steps=10, label='$b_t$ (good)' )\n",
    "plot_decision_rule(model, mdr_high_gamma, 'l', 'b', i0=0, n_steps=10, label='$b_t$ (bad) [high gamma]' )\n",
    "plot_decision_rule(model, mdr_high_gamma, 'l', 'b', i0=1, n_steps=10, label='$b_t$ (good) [high gamma]' )\n",
    "#plot(df['l'], df['l'], linestyle='--', color='black')\n",
    "#plot(df['l'], -0.2*df['c'], linestyle='--', color='black')\n",
    "legend(loc= 'upper left')"
   ]
  }
 ],
 "metadata": {
  "anaconda-cloud": {},
  "kernelspec": {
   "display_name": "Python [conda root]",
   "language": "python",
   "name": "conda-root-py"
  },
  "language_info": {
   "codemirror_mode": {
    "name": "ipython",
    "version": 3
   },
   "file_extension": ".py",
   "mimetype": "text/x-python",
   "name": "python",
   "nbconvert_exporter": "python",
   "pygments_lexer": "ipython3",
   "version": "3.5.2"
  }
 },
 "nbformat": 4,
 "nbformat_minor": 1
}
